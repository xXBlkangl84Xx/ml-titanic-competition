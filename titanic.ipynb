{
 "cells": [
  {
   "cell_type": "markdown",
   "id": "cfe98556",
   "metadata": {},
   "source": [
    "In this notebook I will go through the titanic competition data from Kaggle and apply Data Science techniques to predict survivors from the shipwreck."
   ]
  },
  {
   "cell_type": "markdown",
   "id": "16bc3658",
   "metadata": {},
   "source": [
    "## Overview\n",
    "1) Understand the shape of the data (Histograms, box plots, etc.)\n",
    "\n",
    "2) Data Cleaning\n",
    "\n",
    "3) Data Exploration\n",
    "\n",
    "4) Feature Engineering\n",
    "\n",
    "5) Data Preprocessing for Model\n",
    "\n",
    "6) Basic Model Building\n",
    "\n",
    "7) Model Tuning\n",
    "\n",
    "8) Ensemble Model Building\n",
    "\n",
    "9) Results\n"
   ]
  },
  {
   "cell_type": "code",
   "execution_count": null,
   "id": "03c52145",
   "metadata": {},
   "outputs": [],
   "source": [
    "import numpy as np # linear algebra\n",
    "import pandas as pd # data processing, CSV file I/O (e.g. pd.read_csv)\n",
    "import seaborn as sns \n",
    "import matplotlib.pyplot as plt\n",
    "# Input data files are available in the read-only \"../input/\" directory\n",
    "# For example, running this (by clicking run or pressing Shift+Enter) will list all files under the input directory\n",
    "\n",
    "import os\n",
    "for dirname, _, filenames in os.walk('/kaggle/input'):\n",
    "    for filename in filenames:\n",
    "        print(os.path.join(dirname, filename))\n",
    "        \n",
    "        \n",
    "# You can write up to 5GB to the current directory (/kaggle/working/) that gets preserved as output when you create a version using \"Save & Run All\" \n",
    "# You can also write temporary files to /kaggle/temp/, but they won't be saved outside of the current session"
   ]
  }
 ],
 "metadata": {
  "kernelspec": {
   "display_name": "Python 3 (ipykernel)",
   "language": "python",
   "name": "python3"
  },
  "language_info": {
   "codemirror_mode": {
    "name": "ipython",
    "version": 3
   },
   "file_extension": ".py",
   "mimetype": "text/x-python",
   "name": "python",
   "nbconvert_exporter": "python",
   "pygments_lexer": "ipython3",
   "version": "3.9.12"
  }
 },
 "nbformat": 4,
 "nbformat_minor": 5
}
